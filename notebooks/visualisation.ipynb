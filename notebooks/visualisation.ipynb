{
 "cells": [
  {
   "cell_type": "code",
   "execution_count": null,
   "metadata": {},
   "outputs": [],
   "source": [
    "import tensorflow as tf\n",
    "import numpy as np\n",
    "\n",
    "import sys, os; sys.path.append(os.path.expanduser('~/code/tf-gqn'))\n",
    "\n",
    "from notebooks.jupyter_extras import show_graph\n",
    "\n",
    "from data_provider.gqn_tfr_provider import input_fn\n",
    "from gqn.gqn_graph import gqn\n",
    "from gqn.gqn_params import PARAMS\n",
    "from gqn.gqn_utils import eta_g"
   ]
  },
  {
   "cell_type": "code",
   "execution_count": null,
   "metadata": {},
   "outputs": [],
   "source": [
    "DATA_ROOT='/Volumes/Tiberius/gqn-dataset/'\n",
    "BAR_WIDTH=2"
   ]
  },
  {
   "cell_type": "code",
   "execution_count": null,
   "metadata": {},
   "outputs": [],
   "source": [
    "tf.reset_default_graph()\n",
    "\n",
    "data = input_fn(dataset='shepard_metzler_5_parts',\n",
    "    context_size=5,\n",
    "    root=DATA_ROOT,\n",
    "    mode=tf.estimator.ModeKeys.TRAIN,\n",
    "    batch_size=1,\n",
    "    num_epochs=None)\n",
    "\n",
    "net, endpoints = gqn(\n",
    "    query_pose=data.query.query_camera, \n",
    "    target_frame=data.target,\n",
    "    context_poses=data.query.context.cameras, \n",
    "    context_frames=data.query.context.frames,\n",
    "    model_params=PARAMS)\n",
    "\n",
    "def debug_canvas_image(canvases, eta_g_scope='GQN'):\n",
    "    with tf.variable_scope(eta_g_scope, reuse=True, auxiliary_name_scope=False), \\\n",
    "         tf.name_scope('debug'):\n",
    "        mean_images = []\n",
    "\n",
    "        with tf.name_scope('MakeWhiteBar'):\n",
    "            cs = tf.shape(canvases[0])\n",
    "            batch, height, channels = cs[0], cs[1], 3\n",
    "            white_vertical_bar = tf.ones(shape=(batch, height, BAR_WIDTH, channels), \n",
    "                                         dtype=tf.float32,\n",
    "                                         name='white_bar')\n",
    "\n",
    "        for canvas in canvases:   \n",
    "            mean_images.append(eta_g(canvas))\n",
    "            mean_images.append(white_vertical_bar)\n",
    "\n",
    "        return tf.concat(mean_images[:-1], axis=-2, name='MakeGrid')\n",
    "\n",
    "image_sequence = debug_canvas_image([endpoints['canvas_{}'.format(i)] for i in range(12)])\n",
    "\n",
    "show_graph(tf.get_default_graph())"
   ]
  },
  {
   "cell_type": "code",
   "execution_count": null,
   "metadata": {},
   "outputs": [],
   "source": [
    "with tf.Session() as s:\n",
    "    s.run(tf.global_variables_initializer())\n",
    "    im = s.run(image_sequence)"
   ]
  },
  {
   "cell_type": "code",
   "execution_count": null,
   "metadata": {},
   "outputs": [],
   "source": [
    "%matplotlib inline\n",
    "import matplotlib.pyplot as plt\n",
    "\n",
    "plt.figure(figsize=(32,32))\n",
    "plt.imshow(im[0,:,:,:])"
   ]
  },
  {
   "cell_type": "code",
   "execution_count": null,
   "metadata": {},
   "outputs": [],
   "source": []
  }
 ],
 "metadata": {
  "kernelspec": {
   "display_name": "Python 3",
   "language": "python",
   "name": "python3"
  },
  "language_info": {
   "codemirror_mode": {
    "name": "ipython",
    "version": 3
   },
   "file_extension": ".py",
   "mimetype": "text/x-python",
   "name": "python",
   "nbconvert_exporter": "python",
   "pygments_lexer": "ipython3"
  }
 },
 "nbformat": 4,
 "nbformat_minor": 2
}
