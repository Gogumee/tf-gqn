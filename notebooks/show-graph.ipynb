{
 "cells": [
  {
   "cell_type": "code",
   "execution_count": null,
   "metadata": {},
   "outputs": [],
   "source": [
    "import sys\n",
    "import os\n",
    "\n",
    "sys.path.append(os.path.expanduser('~/code/tf-gqn/notebooks'))\n",
    "sys.path.append(os.path.expanduser('~/code/tf-gqn'))\n",
    "\n",
    "import tensorflow as tf\n",
    "import numpy as np\n",
    "\n",
    "from jupyter_extras import show_graph\n",
    "\n",
    "from gqn.gqn_params import PARAMS\n",
    "from gqn.gqn_rnn import generator_rnn"
   ]
  },
  {
   "cell_type": "code",
   "execution_count": null,
   "metadata": {},
   "outputs": [],
   "source": [
    " # constants\n",
    "_BATCH_SIZE = 1\n",
    "_CONTEXT_SIZE = 5\n",
    "_DIM_POSE = PARAMS.POSE_CHANNELS\n",
    "_DIM_R_H = 16\n",
    "_DIM_R_W = 16\n",
    "_DIM_R_C = PARAMS.REPRESENTATION_CHANNELS\n",
    "_SEQ_LENGTH = 2\n",
    "\n",
    "# input placeholders\n",
    "query_pose = tf.placeholder(\n",
    "    shape=[_BATCH_SIZE, _DIM_POSE], dtype=tf.float32)\n",
    "scene_representation = tf.placeholder(\n",
    "    shape=[_BATCH_SIZE, _DIM_R_H, _DIM_R_W, _DIM_R_C], dtype=tf.float32)\n",
    "\n",
    "# set up the generator LSTM cell\n",
    "canvas = generator_rnn(\n",
    "    representations=scene_representation,\n",
    "    query_poses=query_pose,\n",
    "    sequence_size=_SEQ_LENGTH)"
   ]
  },
  {
   "cell_type": "code",
   "execution_count": null,
   "metadata": {},
   "outputs": [],
   "source": [
    "show_graph(tf.get_default_graph())"
   ]
  },
  {
   "cell_type": "code",
   "execution_count": null,
   "metadata": {},
   "outputs": [],
   "source": []
  }
 ],
 "metadata": {
  "kernelspec": {
   "display_name": "Python 2",
   "language": "python",
   "name": "python2"
  },
  "language_info": {
   "codemirror_mode": {
    "name": "ipython",
    "version": 2
   },
   "file_extension": ".py",
   "mimetype": "text/x-python",
   "name": "python",
   "nbconvert_exporter": "python",
   "pygments_lexer": "ipython2"
  }
 },
 "nbformat": 4,
 "nbformat_minor": 2
}
